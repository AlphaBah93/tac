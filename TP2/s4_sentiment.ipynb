{
 "cells": [
  {
   "cell_type": "markdown",
   "metadata": {},
   "source": [
    "# Sentiment analysis avec Textblob-FR"
   ]
  },
  {
   "cell_type": "markdown",
   "metadata": {},
   "source": [
    "Documentation: https://textblob.readthedocs.io/en/dev/"
   ]
  },
  {
   "cell_type": "markdown",
   "metadata": {},
   "source": []
  },
  {
   "cell_type": "markdown",
   "metadata": {},
   "source": [
    "## Imports"
   ]
  },
  {
   "cell_type": "code",
   "execution_count": 3,
   "metadata": {},
   "outputs": [],
   "source": [
    "import sys\n",
    "from textblob import Blobber\n",
    "from textblob_fr import PatternTagger, PatternAnalyzer"
   ]
  },
  {
   "cell_type": "markdown",
   "metadata": {},
   "source": [
    "## Fonction"
   ]
  },
  {
   "cell_type": "code",
   "execution_count": 4,
   "metadata": {},
   "outputs": [],
   "source": [
    "tb = Blobber(pos_tagger=PatternTagger(), analyzer=PatternAnalyzer())\n",
    "\n",
    "def get_sentiment(input_text):\n",
    "    blob = tb(input_text)\n",
    "    polarity, subjectivity = blob.sentiment\n",
    "    polarity_perc = f\"{100*abs(polarity):.0f}\"\n",
    "    subjectivity_perc = f\"{100*subjectivity:.0f}\"\n",
    "    if polarity > 0:\n",
    "        polarity_str = f\"{polarity_perc}% positive\"\n",
    "    elif polarity < 0:\n",
    "        polarity_str = f\"{polarity_perc}% negative\"\n",
    "    else:\n",
    "        polarity_str = \"neutral\"\n",
    "    if subjectivity > 0:\n",
    "        subjectivity_str = f\"{subjectivity}% subjective\"\n",
    "    else:\n",
    "        subjectivity_str = \"perfectly objective\"\n",
    "    print(f\"This text is {polarity_str} and {subjectivity_str}.\")"
   ]
  },
  {
   "cell_type": "markdown",
   "metadata": {},
   "source": [
    "## Analyser le sentiment d'une phrase"
   ]
  },
  {
   "cell_type": "code",
   "execution_count": 5,
   "metadata": {
    "tags": []
   },
   "outputs": [
    {
     "name": "stdout",
     "output_type": "stream",
     "text": [
      "This text is 50% positive and 0.6% subjective.\n"
     ]
    }
   ],
   "source": [
    "get_sentiment(\"L'activité est moins étoffée que la Veille et quelques prises de bénéfices donnent à la cote une physionomie moins uniformément favorable\")"
   ]
  },
  {
   "cell_type": "code",
   "execution_count": 6,
   "metadata": {
    "tags": []
   },
   "outputs": [
    {
     "name": "stdout",
     "output_type": "stream",
     "text": [
      "This text is neutral and perfectly objective.\n"
     ]
    }
   ],
   "source": [
    "get_sentiment(\"LE SOIR b Bourse de Bruxelles VENDREDI 3 JANVIER Marché toujours soutenu\")"
   ]
  },
  {
   "cell_type": "code",
   "execution_count": 7,
   "metadata": {},
   "outputs": [
    {
     "name": "stdout",
     "output_type": "stream",
     "text": [
      "This text is 10% negative and 0.15% subjective.\n"
     ]
    }
   ],
   "source": [
    "get_sentiment(\"Toutefois, plusieurs points de soutien, voire de fermeté, subsistent, tant en Valeurs locales qu’en titres étrangers\")"
   ]
  },
  {
   "cell_type": "code",
   "execution_count": 8,
   "metadata": {},
   "outputs": [
    {
     "name": "stdout",
     "output_type": "stream",
     "text": [
      "This text is 10% negative and 0.2833333333333334% subjective.\n"
     ]
    }
   ],
   "source": [
    "get_sentiment(\"Parmi ces derniers, les non- ferreux demeurent très entourés\")"
   ]
  },
  {
   "cell_type": "code",
   "execution_count": 9,
   "metadata": {},
   "outputs": [
    {
     "name": "stdout",
     "output_type": "stream",
     "text": [
      "This text is 18% positive and 0.2333333333333333% subjective.\n"
     ]
    }
   ],
   "source": [
    "get_sentiment(\"La demande de Londres est assez importante en R. S. T., 662, et en Zam- blan Anglo où l’ancienne passe à 225, et la nouvelle à 196\")"
   ]
  },
  {
   "cell_type": "code",
   "execution_count": 10,
   "metadata": {},
   "outputs": [
    {
     "name": "stdout",
     "output_type": "stream",
     "text": [
      "This text is neutral and perfectly objective.\n"
     ]
    }
   ],
   "source": [
    "get_sentiment(\"Les aurifères, en hausse dans la City, accentuent chez nous leur avance de jeudi, surtout Rand Mines, 1.204, et Près. Brand, 128\")"
   ]
  },
  {
   "cell_type": "code",
   "execution_count": 11,
   "metadata": {},
   "outputs": [
    {
     "name": "stdout",
     "output_type": "stream",
     "text": [
      "This text is 15% negative and 0.26% subjective.\n"
     ]
    }
   ],
   "source": [
    "get_sentiment(\"Parmi les valeurs belges, une amélioration appréciable est enregistrée en Pétrofina, 2.408, de même que dans les valeurs étrangères du groupe : Amer. Pétro, 1.516, et Canad. Pétro, 962\")"
   ]
  },
  {
   "cell_type": "code",
   "execution_count": 12,
   "metadata": {},
   "outputs": [
    {
     "name": "stdout",
     "output_type": "stream",
     "text": [
      "This text is neutral and perfectly objective.\n"
     ]
    }
   ],
   "source": [
    "get_sentiment(\"Cominière pousse son avantage à 1.880 c. 1.830, et Lambert est mieux tenue à 1.360 aux holdings\")"
   ]
  },
  {
   "cell_type": "code",
   "execution_count": 13,
   "metadata": {},
   "outputs": [
    {
     "name": "stdout",
     "output_type": "stream",
     "text": [
      "This text is neutral and perfectly objective.\n"
     ]
    }
   ],
   "source": [
    "get_sentiment(\"Des dégagements bénéficiaires ramènent Belelectric à 3.110 c. 3.330, et Electrobel à 4.835 aux trusts\")"
   ]
  },
  {
   "cell_type": "code",
   "execution_count": 14,
   "metadata": {},
   "outputs": [
    {
     "name": "stdout",
     "output_type": "stream",
     "text": [
      "This text is neutral and perfectly objective.\n"
     ]
    }
   ],
   "source": [
    "get_sentiment(\"Par contre, les dispositions restent à l’achat «a Sofina, 9.820, Sidro, 1.028, et Tract. Electricité, 3.750 c. 3.700\")"
   ]
  }
 ],
 "metadata": {
  "kernelspec": {
   "display_name": "Python 3.10.8 ('tac_venv': venv)",
   "language": "python",
   "name": "python3"
  },
  "language_info": {
   "codemirror_mode": {
    "name": "ipython",
    "version": 3
   },
   "file_extension": ".py",
   "mimetype": "text/x-python",
   "name": "python",
   "nbconvert_exporter": "python",
   "pygments_lexer": "ipython3",
   "version": "3.10.8"
  },
  "vscode": {
   "interpreter": {
    "hash": "2ce1b313bac97acfc3725b5cad8e5c637e97683f975d34c9e95bb8f62a530a26"
   }
  }
 },
 "nbformat": 4,
 "nbformat_minor": 4
}
