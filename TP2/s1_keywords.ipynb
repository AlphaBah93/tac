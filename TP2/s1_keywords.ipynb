{
 "cells": [
  {
   "cell_type": "markdown",
   "metadata": {},
   "source": [
    "# Extraction de Keywords"
   ]
  },
  {
   "cell_type": "markdown",
   "metadata": {},
   "source": [
    "## Imports"
   ]
  },
  {
   "cell_type": "code",
   "execution_count": 1,
   "metadata": {},
   "outputs": [],
   "source": [
    "import os\n",
    "import yake"
   ]
  },
  {
   "cell_type": "code",
   "execution_count": 7,
   "metadata": {},
   "outputs": [],
   "source": [
    "# Choisir une année\n",
    "year = 1969"
   ]
  },
  {
   "cell_type": "markdown",
   "metadata": {},
   "source": [
    "## Extraire les mots clés d'un document avec Yake"
   ]
  },
  {
   "cell_type": "markdown",
   "metadata": {},
   "source": [
    "https://github.com/LIAAD/yake"
   ]
  },
  {
   "cell_type": "code",
   "execution_count": 9,
   "metadata": {},
   "outputs": [
    {
     "data": {
      "text/plain": [
       "<yake.yake.KeywordExtractor at 0x23fd55cf2b0>"
      ]
     },
     "execution_count": 9,
     "metadata": {},
     "output_type": "execute_result"
    }
   ],
   "source": [
    "# Instantier l'extracteur de mots clés\n",
    "kw_extractor = yake.KeywordExtractor(lan=\"fr\", top=50)\n",
    "kw_extractor"
   ]
  },
  {
   "cell_type": "code",
   "execution_count": 13,
   "metadata": {},
   "outputs": [],
   "source": [
    "# Lister les Fichiers\n",
    "data_path = \"../data/tmp/\"\n",
    "files = os.listdir(data_path)"
   ]
  },
  {
   "cell_type": "code",
   "execution_count": 14,
   "metadata": {},
   "outputs": [
    {
     "data": {
      "text/plain": [
       "6"
      ]
     },
     "execution_count": 14,
     "metadata": {},
     "output_type": "execute_result"
    }
   ],
   "source": [
    "# Imprimer le nombre de fichiers identifiés\n",
    "len(files)"
   ]
  },
  {
   "cell_type": "code",
   "execution_count": 19,
   "metadata": {},
   "outputs": [
    {
     "data": {
      "text/plain": [
       "['1945.png',\n",
       " '1945.txt',\n",
       " '1945_clean.txt',\n",
       " '1969.png',\n",
       " '1969.txt',\n",
       " '1969_clean.txt']"
      ]
     },
     "execution_count": 19,
     "metadata": {},
     "output_type": "execute_result"
    }
   ],
   "source": [
    "# Les dix premiers fichiers\n",
    "files[:10]"
   ]
  },
  {
   "cell_type": "code",
   "execution_count": 15,
   "metadata": {},
   "outputs": [
    {
     "data": {
      "text/plain": [
       "'1969.txt'"
      ]
     },
     "execution_count": 15,
     "metadata": {},
     "output_type": "execute_result"
    }
   ],
   "source": [
    "# Choisir un fichier\n",
    "this_file = files[4]\n",
    "this_file"
   ]
  },
  {
   "cell_type": "code",
   "execution_count": 16,
   "metadata": {},
   "outputs": [
    {
     "data": {
      "text/plain": [
       "\"t Dt» LE SOIR b Bourse de Bruxelles VENDREDI 3 JANVIER Marché toujours soutenu' L'activité est moins étoffée que la Veille et quelques prises de bénéfices donnent à la cote une physionomie moins uniformément favorable. Toutefois, plusieurs points de soutien, voire de fermeté, subsistent, tant en Valeurs locales qu’en titres étrangers. Parmi ces derniers, les non- ferreux demeurent très entourés. La demande de Londres est assez importante en R. S. T., 662, et en Zam- blan Anglo où l’ancienne pass\""
      ]
     },
     "execution_count": 16,
     "metadata": {},
     "output_type": "execute_result"
    }
   ],
   "source": [
    "# Récupérer le texte du fichier\n",
    "text = open(os.path.join(data_path, this_file), 'r', encoding=\"utf-8\").read()\n",
    "text[:500]"
   ]
  },
  {
   "cell_type": "code",
   "execution_count": 17,
   "metadata": {},
   "outputs": [
    {
     "data": {
      "text/plain": [
       "[('Ecrire Agence Rossel', 5.376910998062665e-06),\n",
       " ('Tél', 8.405881912617173e-06),\n",
       " ('Bruxelles', 9.922915871970955e-06),\n",
       " ('dem', 3.0765525425627683e-05),\n",
       " ('Agence Rossel', 3.13729424917312e-05),\n",
       " ('Liège Liège Liège', 3.307787683938139e-05),\n",
       " ('rue', 3.431842998609475e-05),\n",
       " ('Rossel', 3.879075186119601e-05),\n",
       " ('Brux', 4.2483855686778276e-05),\n",
       " ('BRUXELLES Tél', 4.990619043689133e-05),\n",
       " ('Van', 5.540059878489119e-05),\n",
       " ('BRUXELLES cherche JEUNE', 5.790408109280864e-05),\n",
       " ('app', 5.9648141952455374e-05),\n",
       " ('l’Agence Rossel', 6.015131359960221e-05),\n",
       " ('Bruxelles dem', 8.620689143557302e-05),\n",
       " ('BRUXELLES demande', 8.747262543036908e-05),\n",
       " ('BRUXELLES ENGAGE', 9.157533126081272e-05),\n",
       " ('BAR dem', 9.25722042150913e-05),\n",
       " ('BRUXELLES CENTRE engage', 9.772781457677559e-05),\n",
       " ('BRUXELLES Jeunes femmes', 0.00010107317678372415),\n",
       " ('Ans', 0.00011040382046748015),\n",
       " ('Ecrire', 0.00011295951121291408),\n",
       " ('Bruxelles DACTYLOS BILINGUES', 0.0001196084067617237),\n",
       " ('avenue Louise BRUXELLES', 0.00012188406185529737),\n",
       " ('Prix', 0.00012523180535590098),\n",
       " ('BONS OUVRIERS Tél', 0.00013571329442325252),\n",
       " ('dames dem', 0.0001362903647307784),\n",
       " ('Bruxelles Centre cherche', 0.00013891555388236462),\n",
       " ('Bruxelles Bruxelles Ital.', 0.00014223426696127425),\n",
       " ('BRUXELLES CENTRE', 0.00014365956685508617),\n",
       " ('Madame Jean VAN', 0.00014615180606086515),\n",
       " ('Ecrire Agence', 0.00014693192430073138),\n",
       " ('bel app', 0.00015452242184276562),\n",
       " ('rue Royale Brux', 0.000158703439562657),\n",
       " ('prix Agence Rossel', 0.00016160590751112256),\n",
       " ('vitae Agence Rossel', 0.00016173554475514983),\n",
       " ('Bon service dem', 0.00016283144222037704),\n",
       " ('bureau Van Laethem', 0.00017503271331084807),\n",
       " ('demande', 0.00017517705953923153),\n",
       " ('Bruxelles Bruxelles', 0.00017656980982549007),\n",
       " ('Faire offre', 0.0001790642362119807),\n",
       " ('Bruxelles demande COMPTABLE', 0.0001796519293223502),\n",
       " ('rue Royale', 0.00018379549083836528),\n",
       " ('SOIR', 0.00018685071694605386),\n",
       " ('Offre Agence Rossel', 0.00018716229074954545),\n",
       " ('heures', 0.0001875727702853146),\n",
       " ('Villa', 0.0001904646271531238),\n",
       " ('JEUNE DACTYLO BILINGUE', 0.00019115504333015897),\n",
       " ('MONSIEUR Albert VAN', 0.00019543445563746192),\n",
       " ('Rue Américaine Tél', 0.00019793165335028095)]"
      ]
     },
     "execution_count": 17,
     "metadata": {},
     "output_type": "execute_result"
    }
   ],
   "source": [
    "# Extraire les mots clés de ce texte\n",
    "keywords = kw_extractor.extract_keywords(text)\n",
    "keywords"
   ]
  },
  {
   "cell_type": "code",
   "execution_count": 18,
   "metadata": {},
   "outputs": [
    {
     "data": {
      "text/plain": [
       "['Agence Rossel',\n",
       " 'BRUXELLES Tél',\n",
       " 'l’Agence Rossel',\n",
       " 'Bruxelles dem',\n",
       " 'BRUXELLES demande',\n",
       " 'BRUXELLES ENGAGE',\n",
       " 'BAR dem',\n",
       " 'dames dem',\n",
       " 'BRUXELLES CENTRE',\n",
       " 'Ecrire Agence',\n",
       " 'bel app',\n",
       " 'Bruxelles Bruxelles',\n",
       " 'Faire offre',\n",
       " 'rue Royale']"
      ]
     },
     "execution_count": 18,
     "metadata": {},
     "output_type": "execute_result"
    }
   ],
   "source": [
    "# Ne garder que les bigrammes\n",
    "kept = []\n",
    "for kw, score in keywords:\n",
    "    words = kw.split()\n",
    "    if len(words) == 2:\n",
    "        kept.append(kw)\n",
    "kept"
   ]
  },
  {
   "cell_type": "markdown",
   "metadata": {},
   "source": [
    "## Faire la même opération sur tous les documents"
   ]
  },
  {
   "cell_type": "code",
   "execution_count": 15,
   "metadata": {},
   "outputs": [
    {
     "name": "stdout",
     "output_type": "stream",
     "text": [
      "KB_JB838_1887-12-22_01-00001.txt mentions these keywords: EXEMPLAIRES distribués, assassins politiques, distribués gratuitement, lomération bruxelloise, bruxelloise et.en, ræge quotidien, QUOTIDIEN GRATUIT, GRATUIT Température, facteur rural, Température Baromètre...\n",
      "KB_JB838_1887-12-22_01-00002.txt mentions these keywords: Ligue nalio, rester fidèle, Van Ophem...\n",
      "KB_JB838_1887-12-22_01-00003.txt mentions these keywords: prince Guillaume, Finet critique, Pierrot Macabre, HEURE Vienne...\n",
      "KB_JB838_1887-12-22_01-00004.txt mentions these keywords: demande place, fiVS ÉPICERIES, ÉPICERIES t'Tu, lie Cologne, Fille val., place Madou, Bon Marché, rue Scailquin, rue Plantin, sci rue, bon certifie, rue lie, rue Bines, exposition Bruxelles, place sach, Bruxelles Centre, BRUXELLES Rideauœ...\n",
      "KB_JB838_1887-12-22_01-00005.txt mentions these keywords: rue Plantin, OBJETS PERDUS, PERDUS gravure, LOUER DEMANDES, grande rue, rue Blaes, rue Hôtel, prix Bruxelles, rue Goflhrl, wôporler rue, rue St-Micliel...\n",
      "KB_JB838_1887-12-22_01-00006.txt mentions these keywords: RHUM ST-GEORGES, question militaire, Société royale, Société Philharmonique, l’école militaire, rue Haute, Nord BRUXELLES, préparatifs militaires, loi portant...\n",
      "KB_JB838_1887-12-23_01-00001.txt mentions these keywords: matin Température, Température maximum, GRATUIT température, température Irti, heurte matin, OBSERVATOIRE ROYAL, Irti Baromètre, QUOTIDIEN GRATUIT, JOURNAL QUOTIDIEN, rues Royale, Vent dominant, Haute Pinte, Bruxelles d’un, Pinte rue...\n",
      "KB_JB838_1887-12-23_01-00002.txt mentions these keywords: ...\n",
      "KB_JB838_1887-12-24_01-00001.txt mentions these keywords: TIRAGE QUOTIDIEN, nommé président, JOURNAL QUOTIDIEN, c’est qu’il, QUOTIDIEN GRATUIT, ANNÉE Samedi, section artistique, BRUXELLES PRIX...\n",
      "KB_JB838_1887-12-24_01-00002.txt mentions these keywords: capitaine Mac, Mme Lachaud, rue Joseph, police qu’il, jeune homme...\n"
     ]
    }
   ],
   "source": [
    "for f in sorted(files)[:10]:\n",
    "    text = open(os.path.join(data_path, f), 'r', encoding=\"utf-8\").read()\n",
    "    keywords = kw_extractor.extract_keywords(text)\n",
    "    kept = []\n",
    "    for kw, score in keywords:\n",
    "        words = kw.split()\n",
    "        if len(words) == 2:\n",
    "            kept.append(kw)\n",
    "    print(f\"{f} mentions these keywords: {', '.join(kept)}...\")"
   ]
  }
 ],
 "metadata": {
  "kernelspec": {
   "display_name": "Python 3.10.8 ('tac_venv': venv)",
   "language": "python",
   "name": "python3"
  },
  "language_info": {
   "codemirror_mode": {
    "name": "ipython",
    "version": 3
   },
   "file_extension": ".py",
   "mimetype": "text/x-python",
   "name": "python",
   "nbconvert_exporter": "python",
   "pygments_lexer": "ipython3",
   "version": "3.10.8"
  },
  "vscode": {
   "interpreter": {
    "hash": "2ce1b313bac97acfc3725b5cad8e5c637e97683f975d34c9e95bb8f62a530a26"
   }
  }
 },
 "nbformat": 4,
 "nbformat_minor": 4
}
