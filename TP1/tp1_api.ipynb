{
 "cells": [
  {
   "cell_type": "markdown",
   "metadata": {},
   "source": [
    "## Imports"
   ]
  },
  {
   "cell_type": "code",
   "execution_count": null,
   "metadata": {},
   "outputs": [],
   "source": [
    "import json\n",
    "import requests"
   ]
  },
  {
   "cell_type": "code",
   "execution_count": null,
   "metadata": {},
   "outputs": [],
   "source": [
    "\n",
    "\n",
    "url = \"https://text-entities-api.p.rapidapi.com/\"\n",
    "\n",
    "querystring = {\"text\":\"The story set 1979 Santa Barbara California boarding house...\"}\n",
    "\n",
    "payload = {\n",
    "\t\"key1\": \"value\",\n",
    "\t\"key2\": \"value\"\n",
    "}\n",
    "headers = {\n",
    "\t\"content-type\": \"application/json\",\n",
    "\t\"X-RapidAPI-Key\": \"667b7de9a2msh77eae7004ecb77cp152228jsn1b5a5552b4d0\",\n",
    "\t\"X-RapidAPI-Host\": \"text-entities-api.p.rapidapi.com\"\n",
    "}\n",
    "\n",
    "response = requests.post(url, json=payload, headers=headers, params=querystring)\n",
    "\n",
    "print(response.json())"
   ]
  }
 ],
 "metadata": {
  "kernelspec": {
   "display_name": "Python 3",
   "language": "python",
   "name": "python3"
  },
  "language_info": {
   "name": "python",
   "version": "3.10.8"
  },
  "orig_nbformat": 4
 },
 "nbformat": 4,
 "nbformat_minor": 2
}
